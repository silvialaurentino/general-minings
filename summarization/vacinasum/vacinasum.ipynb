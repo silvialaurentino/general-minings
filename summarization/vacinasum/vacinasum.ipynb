{
  "nbformat": 4,
  "nbformat_minor": 0,
  "metadata": {
    "colab": {
      "name": "Minerações PQSatisfação - Vacinação.ipynb",
      "provenance": [],
      "include_colab_link": true
    },
    "kernelspec": {
      "name": "python3",
      "display_name": "Python 3"
    },
    "language_info": {
      "name": "python"
    }
  },
  "cells": [
    {
      "cell_type": "markdown",
      "metadata": {
        "id": "view-in-github",
        "colab_type": "text"
      },
      "source": [
        "<a href=\"https://colab.research.google.com/gist/silvialaurentino/f3c54b54144d14c71073fd5bc5653534/minera-es-pqsatisfa-o-vacina-o.ipynb\" target=\"_parent\"><img src=\"https://colab.research.google.com/assets/colab-badge.svg\" alt=\"Open In Colab\"/></a>"
      ]
    },
    {
      "cell_type": "code",
      "metadata": {
        "id": "W5BkBlini63j"
      },
      "source": [
        "import pandas as pd\n",
        "import numpy as np\n",
        "import seaborn as sns\n",
        "import matplotlib.pyplot as plt\n",
        "import nltk\n",
        "import re\n",
        "import string\n",
        "from wordcloud import WordCloud"
      ],
      "execution_count": null,
      "outputs": []
    },
    {
      "cell_type": "code",
      "metadata": {
        "id": "IdZhkTkYsS5h"
      },
      "source": [
        "!pip install sumy\n",
        "from sumy.parsers.plaintext import PlaintextParser\n",
        "from sumy.nlp.tokenizers import Tokenizer\n",
        "from sumy.summarizers.luhn import LuhnSummarizer\n",
        "from IPython.core.display import HTML"
      ],
      "execution_count": null,
      "outputs": []
    },
    {
      "cell_type": "code",
      "metadata": {
        "id": "v_Ucu5S1jERl"
      },
      "source": [
        "df = pd.read_csv('/content/sts.csv')"
      ],
      "execution_count": null,
      "outputs": []
    },
    {
      "cell_type": "code",
      "metadata": {
        "id": "E3k4c1gsjLiI"
      },
      "source": [
        "df"
      ],
      "execution_count": null,
      "outputs": []
    },
    {
      "cell_type": "code",
      "metadata": {
        "id": "mesQ56PyfbHE"
      },
      "source": [
        "df = df.replace(to_replace = ['MUITO_INSATISFEITO','INSATISFEITO', 'INDIFERENTE', 'SATISFEITO', 'MUITO_SATISFEITO'], value = [1,2,3,4,5])"
      ],
      "execution_count": null,
      "outputs": []
    },
    {
      "cell_type": "code",
      "metadata": {
        "id": "Lu5i0eQpLaW3"
      },
      "source": [
        "df.describe()"
      ],
      "execution_count": null,
      "outputs": []
    },
    {
      "cell_type": "code",
      "metadata": {
        "id": "DswVxvFxdSxt"
      },
      "source": [
        "sns.heatmap(df.isnull(), cbar=False)"
      ],
      "execution_count": null,
      "outputs": []
    },
    {
      "cell_type": "code",
      "metadata": {
        "id": "bYhJ7n7KfdMW"
      },
      "source": [
        "df = df.dropna(how='any').reset_index(drop = True)"
      ],
      "execution_count": null,
      "outputs": []
    },
    {
      "cell_type": "code",
      "metadata": {
        "id": "p5nIPcTAjN8S"
      },
      "source": [
        "df['LENGTH'] = df['OBSERVACAO'].apply(len)"
      ],
      "execution_count": null,
      "outputs": []
    },
    {
      "cell_type": "code",
      "metadata": {
        "id": "siRLP_pdjh4A"
      },
      "source": [
        "df['LENGTH'].plot(bins=100, kind='hist')"
      ],
      "execution_count": null,
      "outputs": []
    },
    {
      "cell_type": "code",
      "metadata": {
        "id": "iN91xLf7jnkG"
      },
      "source": [
        "df[df['LENGTH'] < 25]"
      ],
      "execution_count": null,
      "outputs": []
    },
    {
      "cell_type": "code",
      "metadata": {
        "id": "ZmzK4hwhj4lY"
      },
      "source": [
        "df.drop(df.loc[df['LENGTH'] < 25].index, inplace=True)"
      ],
      "execution_count": null,
      "outputs": []
    },
    {
      "cell_type": "code",
      "metadata": {
        "id": "cX0HcCJBkFGy"
      },
      "source": [
        "df = df.reset_index(drop = True)"
      ],
      "execution_count": null,
      "outputs": []
    },
    {
      "cell_type": "code",
      "metadata": {
        "id": "bBXwYPaEkIeY"
      },
      "source": [
        "df"
      ],
      "execution_count": null,
      "outputs": []
    },
    {
      "cell_type": "code",
      "metadata": {
        "id": "KekcBZpdkXrw"
      },
      "source": [
        "df = df.drop(columns='LENGTH')"
      ],
      "execution_count": null,
      "outputs": []
    },
    {
      "cell_type": "code",
      "metadata": {
        "id": "iauifiAwkfdG"
      },
      "source": [
        "df"
      ],
      "execution_count": null,
      "outputs": []
    },
    {
      "cell_type": "code",
      "metadata": {
        "id": "aWGlXMRuLfnx"
      },
      "source": [
        "df.describe()"
      ],
      "execution_count": null,
      "outputs": []
    },
    {
      "cell_type": "code",
      "metadata": {
        "id": "KI-Y6kvekhRO"
      },
      "source": [
        "df['VACINACAO'] = df['OBSERVACAO'].apply(lambda x: 1 if 'vacin' in x else 0)"
      ],
      "execution_count": null,
      "outputs": []
    },
    {
      "cell_type": "code",
      "metadata": {
        "id": "nj0kVV34kpif"
      },
      "source": [
        "vcn = df[df['VACINACAO'] == 1].reset_index(drop = True)"
      ],
      "execution_count": null,
      "outputs": []
    },
    {
      "cell_type": "code",
      "metadata": {
        "id": "9cspjVBTawb-"
      },
      "source": [
        "vcn"
      ],
      "execution_count": null,
      "outputs": []
    },
    {
      "cell_type": "code",
      "metadata": {
        "id": "uc86VsI5MIPS"
      },
      "source": [
        "vcn = vcn.drop(columns='VACINACAO')"
      ],
      "execution_count": null,
      "outputs": []
    },
    {
      "cell_type": "code",
      "metadata": {
        "id": "jDKgADTmLsnu"
      },
      "source": [
        "vcp = vcn[vcn['GRAU_SATISFACAO'] >= 4].reset_index(drop = True)\n",
        "vcn = vcn[vcn['GRAU_SATISFACAO'] <= 3].reset_index(drop = True)"
      ],
      "execution_count": null,
      "outputs": []
    },
    {
      "cell_type": "code",
      "metadata": {
        "id": "9mSHvFD3Klv1"
      },
      "source": [
        "vcn.describe()"
      ],
      "execution_count": null,
      "outputs": []
    },
    {
      "cell_type": "code",
      "metadata": {
        "id": "9SRzCdP_L3wL"
      },
      "source": [
        "vcp.describe()"
      ],
      "execution_count": null,
      "outputs": []
    },
    {
      "cell_type": "code",
      "metadata": {
        "id": "cdICWwtQL5sc"
      },
      "source": [
        "vcn.describe()"
      ],
      "execution_count": null,
      "outputs": []
    },
    {
      "cell_type": "code",
      "metadata": {
        "id": "2Gjlduu2NTAh"
      },
      "source": [
        "vcn.hist(bins = 30, figsize=(10,7), color = '#33adffff')"
      ],
      "execution_count": null,
      "outputs": []
    },
    {
      "cell_type": "code",
      "metadata": {
        "id": "BfPPceOzMpNP"
      },
      "source": [
        "vcp.hist(bins = 30, figsize=(10,7), color = '#33adffff')"
      ],
      "execution_count": null,
      "outputs": []
    },
    {
      "cell_type": "code",
      "metadata": {
        "id": "_-B_c47BMmYp"
      },
      "source": [
        "vcn.hist(bins = 30, figsize=(10,7), color = '#33adffff')"
      ],
      "execution_count": null,
      "outputs": []
    },
    {
      "cell_type": "code",
      "metadata": {
        "id": "oT9Vg7fbNV8G"
      },
      "source": [
        "plt.figure(figsize = (10,7))\n",
        "sns.barplot(x = 'VERSAO', y = 'GRAU_SATISFACAO', data = vcn, palette=sns.light_palette(\"#0099ffff\", n_colors=15, reverse=True))"
      ],
      "execution_count": null,
      "outputs": []
    },
    {
      "cell_type": "code",
      "metadata": {
        "id": "XatJ1pQsM-ph"
      },
      "source": [
        "plt.figure(figsize = (10,7))\n",
        "sns.barplot(x = 'VERSAO', y = 'GRAU_SATISFACAO', data = vcp, palette=sns.light_palette(\"#0099ffff\", n_colors=15, reverse=True))"
      ],
      "execution_count": null,
      "outputs": []
    },
    {
      "cell_type": "code",
      "metadata": {
        "id": "ayxkBCgMMvFQ"
      },
      "source": [
        "plt.figure(figsize = (10,7))\n",
        "sns.barplot(x = 'VERSAO', y = 'GRAU_SATISFACAO', data = vcn, palette=sns.light_palette(\"#0099ffff\", n_colors=15, reverse=True))"
      ],
      "execution_count": null,
      "outputs": []
    },
    {
      "cell_type": "code",
      "metadata": {
        "id": "ZFbxdXrga-RG"
      },
      "source": [
        "sts = vcn['OBSERVACAO'].tolist()\n",
        "stp = vcp['OBSERVACAO'].tolist()\n",
        "stn = vcn['OBSERVACAO'].tolist()"
      ],
      "execution_count": null,
      "outputs": []
    },
    {
      "cell_type": "code",
      "metadata": {
        "id": "CzMiVEjcdhkm"
      },
      "source": [
        "def non(sents):\n",
        "  _s = []\n",
        "  for s in sents:\n",
        "    s = s.replace('\\n', '')\n",
        "    s = s.replace('  ', ' ')\n",
        "    _s.append(s)\n",
        "  return _s"
      ],
      "execution_count": null,
      "outputs": []
    },
    {
      "cell_type": "code",
      "metadata": {
        "id": "FdZxKLIyd9tO"
      },
      "source": [
        "sts = non(sts)\n",
        "stp = non(stp)\n",
        "stn = non(stn)"
      ],
      "execution_count": null,
      "outputs": []
    },
    {
      "cell_type": "code",
      "metadata": {
        "id": "GBTt7GKaf7I9"
      },
      "source": [
        "s = ' '.join(sts)\n",
        "p = ' '.join(stp)\n",
        "n = ' '.join(stn)"
      ],
      "execution_count": null,
      "outputs": []
    },
    {
      "cell_type": "code",
      "metadata": {
        "id": "EMPet2GHgyTZ"
      },
      "source": [
        "nltk.download('punkt')\n",
        "nltk.download('stopwords')"
      ],
      "execution_count": null,
      "outputs": []
    },
    {
      "cell_type": "code",
      "metadata": {
        "id": "HlRo4SH3g8th"
      },
      "source": [
        "parser = PlaintextParser.from_string(s, Tokenizer('portuguese'))"
      ],
      "execution_count": null,
      "outputs": []
    },
    {
      "cell_type": "code",
      "metadata": {
        "id": "i_F9cnZxhSHL"
      },
      "source": [
        "sumLuhn = LuhnSummarizer()"
      ],
      "execution_count": null,
      "outputs": []
    },
    {
      "cell_type": "code",
      "metadata": {
        "id": "8ZC0zEEChUmN"
      },
      "source": [
        "reLuhn = sumLuhn(parser.document, 10)"
      ],
      "execution_count": null,
      "outputs": []
    },
    {
      "cell_type": "code",
      "metadata": {
        "id": "jCC5OqUsha6p"
      },
      "source": [
        "reLuhn"
      ],
      "execution_count": null,
      "outputs": []
    },
    {
      "cell_type": "code",
      "metadata": {
        "id": "wtEnYwfUheKy"
      },
      "source": [
        "hgh = ''\n",
        "\n",
        "for s in reLuhn:\n",
        "  hgh += str(s)"
      ],
      "execution_count": null,
      "outputs": []
    },
    {
      "cell_type": "code",
      "metadata": {
        "id": "DRJpre6HiR-k"
      },
      "source": [
        "_t = ''\n",
        "\n",
        "display(HTML(f'<h1>Vacinação</h1>'))\n",
        "for s in sts:\n",
        "  if s in hgh:\n",
        "    _t += str(s).replace(s, f'<mark>{s} </mark>')\n",
        "  else:\n",
        "    _t += s + ' '\n",
        "display(HTML(f'{_t}'))"
      ],
      "execution_count": null,
      "outputs": []
    },
    {
      "cell_type": "code",
      "metadata": {
        "id": "F6v2tEVgf_wL"
      },
      "source": [
        "plt.figure(figsize=(20,20))\n",
        "plt.imshow(WordCloud().generate(hgh))"
      ],
      "execution_count": null,
      "outputs": []
    },
    {
      "cell_type": "code",
      "metadata": {
        "id": "qx28Tiihi8jG"
      },
      "source": [
        "stopwords = nltk.corpus.stopwords.words('portuguese')\n",
        "stopwords.extend(['aí', 'ser', 'sistema', 'nao', 'ter', 'toda', 'vezes', 'pois', 'muita', 'pra', 'poderia', 'poder', 'fica', 'ficou', 'ficar', 'muitos', 'muitas', 'dia', 'versão', 'sempre', 'demais', 'exemplo', 'tudo', 'ainda', 'colocar', 'programa', 'paciente', 'atendimento', 'deveria', 'consigo', 'aparece'])"
      ],
      "execution_count": null,
      "outputs": []
    },
    {
      "cell_type": "code",
      "metadata": {
        "id": "iI7JCa4ajLL6"
      },
      "source": [
        "def format(input):\n",
        "  _l = input.lower()\n",
        "  _tks = []\n",
        "  for t in nltk.word_tokenize(_l):\n",
        "    _tks.append(t)\n",
        "\n",
        "  _tks = [p for p in _tks if p not in stopwords and p not in string.punctuation]\n",
        "\n",
        "  _f = ' '.join([str(e) for e in _tks])\n",
        "\n",
        "  return _f"
      ],
      "execution_count": null,
      "outputs": []
    },
    {
      "cell_type": "code",
      "metadata": {
        "id": "Q4VfsolOjO3d"
      },
      "source": [
        "hgh = format(hgh)"
      ],
      "execution_count": null,
      "outputs": []
    },
    {
      "cell_type": "code",
      "metadata": {
        "id": "SQQMiQ69ncB7"
      },
      "source": [
        "plt.figure(figsize=(20,10))\n",
        "plt.imshow(WordCloud().generate(hgh))"
      ],
      "execution_count": null,
      "outputs": []
    },
    {
      "cell_type": "code",
      "metadata": {
        "id": "-iQi8_UaS4QK"
      },
      "source": [
        "parser = PlaintextParser.from_string(stp, Tokenizer('portuguese'))"
      ],
      "execution_count": null,
      "outputs": []
    },
    {
      "cell_type": "code",
      "metadata": {
        "id": "pwL_WuIFS4QL"
      },
      "source": [
        "reLuhn = sumLuhn(parser.document, 10)"
      ],
      "execution_count": null,
      "outputs": []
    },
    {
      "cell_type": "code",
      "metadata": {
        "id": "Rn9u_vwcS4QL"
      },
      "source": [
        "reLuhn"
      ],
      "execution_count": null,
      "outputs": []
    },
    {
      "cell_type": "code",
      "metadata": {
        "id": "AOJJW_BqS4QM"
      },
      "source": [
        "hgh = ''\n",
        "\n",
        "for s in reLuhn:\n",
        "  hgh += str(s)"
      ],
      "execution_count": null,
      "outputs": []
    },
    {
      "cell_type": "code",
      "metadata": {
        "id": "eEw5HMngS4QM"
      },
      "source": [
        "_t = ''\n",
        "\n",
        "display(HTML(f'<h1>Vacinação - Positivos</h1>'))\n",
        "for s in stp:\n",
        "  if s in hgh:\n",
        "    _t += str(s).replace(s, f'<mark>{s} </mark>')\n",
        "  else:\n",
        "    _t += s + ' '\n",
        "display(HTML(f'{_t}'))"
      ],
      "execution_count": null,
      "outputs": []
    },
    {
      "cell_type": "code",
      "metadata": {
        "id": "xaMVVy67TRnt"
      },
      "source": [
        "hgh = format(hgh)"
      ],
      "execution_count": null,
      "outputs": []
    },
    {
      "cell_type": "code",
      "metadata": {
        "id": "E8DOy1PmTTQ1"
      },
      "source": [
        "plt.figure(figsize=(20,20))\n",
        "plt.imshow(WordCloud().generate(hgh))"
      ],
      "execution_count": null,
      "outputs": []
    },
    {
      "cell_type": "code",
      "metadata": {
        "id": "EJol0DZGTCBX"
      },
      "source": [
        "parser = PlaintextParser.from_string(stn, Tokenizer('portuguese'))"
      ],
      "execution_count": null,
      "outputs": []
    },
    {
      "cell_type": "code",
      "metadata": {
        "id": "HK04PGxaTCBY"
      },
      "source": [
        "reLuhn = sumLuhn(parser.document, 10)"
      ],
      "execution_count": null,
      "outputs": []
    },
    {
      "cell_type": "code",
      "metadata": {
        "id": "bnQUm7n9TCBY"
      },
      "source": [
        "reLuhn"
      ],
      "execution_count": null,
      "outputs": []
    },
    {
      "cell_type": "code",
      "metadata": {
        "id": "hXrvVBnXTCBZ"
      },
      "source": [
        "hgh = ''\n",
        "\n",
        "for s in reLuhn:\n",
        "  hgh += str(s)"
      ],
      "execution_count": null,
      "outputs": []
    },
    {
      "cell_type": "code",
      "metadata": {
        "id": "YcYxto6STCBZ"
      },
      "source": [
        "_t = ''\n",
        "\n",
        "display(HTML(f'<h1>Vacinação - Negativos</h1>'))\n",
        "for s in stn:\n",
        "  if s in hgh:\n",
        "    _t += str(s).replace(s, f'<mark>{s} </mark>')\n",
        "  else:\n",
        "    _t += s + ' '\n",
        "display(HTML(f'{_t}'))"
      ],
      "execution_count": null,
      "outputs": []
    },
    {
      "cell_type": "code",
      "metadata": {
        "id": "Jj8CLqKzTU_W"
      },
      "source": [
        "hgh = format(hgh)"
      ],
      "execution_count": null,
      "outputs": []
    },
    {
      "cell_type": "code",
      "metadata": {
        "id": "0fy85WIrTU_W"
      },
      "source": [
        "plt.figure(figsize=(20,20))\n",
        "plt.imshow(WordCloud().generate(hgh))"
      ],
      "execution_count": null,
      "outputs": []
    }
  ]
}
